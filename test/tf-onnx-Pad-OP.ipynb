{
 "cells": [
  {
   "cell_type": "code",
   "execution_count": 8,
   "metadata": {},
   "outputs": [
    {
     "name": "stdout",
     "output_type": "stream",
     "text": [
      "x:\n",
      " [[[[1.]\n",
      "   [1.]]\n",
      "\n",
      "  [[1.]\n",
      "   [1.]]]]\n",
      "y:\n",
      " [[[[0. 0. 0. 0. 0. 0. 0. 0.]\n",
      "   [0. 0. 0. 1. 0. 0. 0. 0.]\n",
      "   [0. 0. 0. 1. 0. 0. 0. 0.]\n",
      "   [0. 0. 0. 0. 0. 0. 0. 0.]\n",
      "   [0. 0. 0. 0. 0. 0. 0. 0.]]\n",
      "\n",
      "  [[0. 0. 0. 0. 0. 0. 0. 0.]\n",
      "   [0. 0. 0. 1. 0. 0. 0. 0.]\n",
      "   [0. 0. 0. 1. 0. 0. 0. 0.]\n",
      "   [0. 0. 0. 0. 0. 0. 0. 0.]\n",
      "   [0. 0. 0. 0. 0. 0. 0. 0.]]]]\n",
      "y.shape: (1, 2, 5, 8)\n"
     ]
    }
   ],
   "source": [
    "import numpy as np\n",
    "\n",
    "x = np.ones([1,2,2,1])\n",
    "print(\"x:\\n\",x)\n",
    "\n",
    "y = np.pad(\n",
    "    x,\n",
    "    pad_width=((0, 0), (0, 0), (1, 2), (3, 4)),\n",
    "    mode='constant',\n",
    "    constant_values=0,\n",
    ")\n",
    "\n",
    "print(\"y:\\n\",y)\n",
    "\n",
    "print(\"y.shape:\",y.shape)\n",
    "\n",
    "\n"
   ]
  },
  {
   "cell_type": "markdown",
   "metadata": {},
   "source": [
    " 对 （1,2）（3,4）的理解(上下 左右) 就是 在 0 0 的 上方加 1 行 数值都是 constant 1.2 ，下方 加两行，左边加 3行 右边 加 4 行"
   ]
  },
  {
   "cell_type": "code",
   "execution_count": 1,
   "metadata": {},
   "outputs": [
    {
     "name": "stdout",
     "output_type": "stream",
     "text": [
      "input: \"x\"\n",
      "output: \"y\"\n",
      "op_type: \"Pad\"\n",
      "attribute {\n",
      "  name: \"mode\"\n",
      "  s: \"constant\"\n",
      "  type: STRING\n",
      "}\n",
      "attribute {\n",
      "  name: \"pads\"\n",
      "  ints: 0\n",
      "  ints: 0\n",
      "  ints: 1\n",
      "  ints: 3\n",
      "  ints: 0\n",
      "  ints: 0\n",
      "  ints: 2\n",
      "  ints: 4\n",
      "  type: INTS\n",
      "}\n",
      "attribute {\n",
      "  name: \"value\"\n",
      "  f: 1.2000000476837158\n",
      "  type: FLOAT\n",
      "}\n",
      "\n"
     ]
    }
   ],
   "source": [
    "import onnx\n",
    "\n",
    "node = onnx.helper.make_node(\n",
    "    'Pad',\n",
    "    inputs=['x'],\n",
    "    outputs=['y'],\n",
    "    mode='constant',\n",
    "    value=1.2,\n",
    "    pads=[0, 0, 1, 3, 0, 0, 2, 4],\n",
    ")\n",
    "# 1 上 3 左  2 下 4  右\n",
    "print(node)"
   ]
  },
  {
   "cell_type": "code",
   "execution_count": 4,
   "metadata": {},
   "outputs": [
    {
     "name": "stdout",
     "output_type": "stream",
     "text": [
      "x:\n",
      " [[[[0. 0.]\n",
      "   [0. 0.]]\n",
      "\n",
      "  [[0. 0.]\n",
      "   [0. 0.]]]]\n",
      "y:\n",
      " [[[[1.2 1.2]\n",
      "   [1.2 1.2]]\n",
      "\n",
      "  [[1.2 1.2]\n",
      "   [1.2 1.2]]\n",
      "\n",
      "  [[1.2 1.2]\n",
      "   [1.2 1.2]]\n",
      "\n",
      "  [[1.2 1.2]\n",
      "   [1.2 1.2]]]\n",
      "\n",
      "\n",
      " [[[1.2 1.2]\n",
      "   [1.2 1.2]]\n",
      "\n",
      "  [[0.  0. ]\n",
      "   [0.  0. ]]\n",
      "\n",
      "  [[0.  0. ]\n",
      "   [0.  0. ]]\n",
      "\n",
      "  [[1.2 1.2]\n",
      "   [1.2 1.2]]]\n",
      "\n",
      "\n",
      " [[[1.2 1.2]\n",
      "   [1.2 1.2]]\n",
      "\n",
      "  [[1.2 1.2]\n",
      "   [1.2 1.2]]\n",
      "\n",
      "  [[1.2 1.2]\n",
      "   [1.2 1.2]]\n",
      "\n",
      "  [[1.2 1.2]\n",
      "   [1.2 1.2]]]]\n"
     ]
    }
   ],
   "source": [
    "import numpy as np\n",
    "\n",
    "x = np.zeros([1,2,2,2])\n",
    "print(\"x:\\n\",x)\n",
    "\n",
    "y = np.pad(\n",
    "    x,\n",
    "    pad_width=((1, 1), (1, 1), (0,0), (0, 0)),\n",
    "    mode='constant',\n",
    "    constant_values=1.2,\n",
    ")\n",
    "\n",
    "print(\"y:\\n\",y)"
   ]
  },
  {
   "cell_type": "code",
   "execution_count": 14,
   "metadata": {},
   "outputs": [
    {
     "name": "stdout",
     "output_type": "stream",
     "text": [
      "image:\n",
      "[[[[ 1.]\n",
      "   [ 2.]\n",
      "   [ 3.]\n",
      "   [ 4.]]\n",
      "\n",
      "  [[ 5.]\n",
      "   [ 6.]\n",
      "   [ 7.]\n",
      "   [ 8.]]\n",
      "\n",
      "  [[ 9.]\n",
      "   [10.]\n",
      "   [11.]\n",
      "   [12.]]\n",
      "\n",
      "  [[13.]\n",
      "   [14.]\n",
      "   [15.]\n",
      "   [16.]]]]\n",
      "reslut:\n",
      "[[[[ 6.]\n",
      "   [ 8.]]\n",
      "\n",
      "  [[14.]\n",
      "   [16.]]]]\n"
     ]
    }
   ],
   "source": [
    "\n",
    "import tensorflow as tf\n",
    " \n",
    "a=tf.constant([\n",
    "        [[1.0,2.0,3.0,4.0],\n",
    "        [5.0,6.0,7.0,8.0],\n",
    "        [9.0,10.0,11.0,12.0],\n",
    "        [13.0,14.0,15.0,16.0]]\n",
    "\n",
    "    ])\n",
    " \n",
    "a=tf.reshape(a,[1,4,4,1])\n",
    " \n",
    "pooling=tf.nn.max_pool(a,[1,2,2,1],[1,2,2,1],padding='VALID')\n",
    "with tf.Session() as sess:\n",
    "    print(\"image:\")\n",
    "    image=sess.run(a)\n",
    "    print (image)\n",
    "    print(\"reslut:\")\n",
    "    result=sess.run(pooling)\n",
    "    print (result)"
   ]
  },
  {
   "cell_type": "code",
   "execution_count": 16,
   "metadata": {},
   "outputs": [
    {
     "name": "stdout",
     "output_type": "stream",
     "text": [
      "image:\n",
      "[[[[ 1.]\n",
      "   [ 2.]\n",
      "   [ 3.]\n",
      "   [ 4.]]\n",
      "\n",
      "  [[ 5.]\n",
      "   [ 6.]\n",
      "   [ 7.]\n",
      "   [ 8.]]\n",
      "\n",
      "  [[ 9.]\n",
      "   [10.]\n",
      "   [11.]\n",
      "   [12.]]\n",
      "\n",
      "  [[13.]\n",
      "   [14.]\n",
      "   [15.]\n",
      "   [16.]]]]\n",
      "reslut:\n",
      "[[[[ 1.]\n",
      "   [ 3.]]\n",
      "\n",
      "  [[ 9.]\n",
      "   [11.]]]]\n"
     ]
    }
   ],
   "source": [
    "\n",
    "import tensorflow as tf\n",
    " \n",
    "X=tf.constant([\n",
    "        [[1.0,2.0,3.0,4.0],\n",
    "        [5.0,6.0,7.0,8.0],\n",
    "        [9.0,10.0,11.0,12.0],\n",
    "        [13.0,14.0,15.0,16.0]]\n",
    "\n",
    "    ])\n",
    "X=tf.reshape(X,[1,4,4,1])\n",
    " \n",
    "pooling1=tf.nn.max_pool(X,[1,1,1,1],[1,2,2,1],padding='SAME')\n",
    "with tf.Session() as sess:\n",
    "    print(\"image:\")\n",
    "    image1=sess.run(X)\n",
    "    print (image1)\n",
    "    print(\"reslut:\")\n",
    "    result1=sess.run(pooling1)\n",
    "    print (result1)\n"
   ]
  },
  {
   "cell_type": "code",
   "execution_count": 3,
   "metadata": {},
   "outputs": [
    {
     "name": "stdout",
     "output_type": "stream",
     "text": [
      "[[0 0]\n",
      " [3 3]\n",
      " [3 3]\n",
      " [0 0]]\n"
     ]
    }
   ],
   "source": [
    "import numpy as np\n",
    "x = np.array( [[0, 0],[3, 3],[3, 3],[0, 0]])\n",
    "print(x)"
   ]
  },
  {
   "cell_type": "code",
   "execution_count": 4,
   "metadata": {},
   "outputs": [
    {
     "data": {
      "text/plain": [
       "array([[0, 3, 3, 0],\n",
       "       [0, 3, 3, 0]])"
      ]
     },
     "execution_count": 4,
     "metadata": {},
     "output_type": "execute_result"
    }
   ],
   "source": [
    "x.transpose()\n"
   ]
  },
  {
   "cell_type": "code",
   "execution_count": 6,
   "metadata": {},
   "outputs": [
    {
     "data": {
      "text/plain": [
       "array([[0, 3, 3, 0, 0, 3, 3, 0]])"
      ]
     },
     "execution_count": 6,
     "metadata": {},
     "output_type": "execute_result"
    }
   ],
   "source": [
    "x.transpose().reshape((1,8))"
   ]
  },
  {
   "cell_type": "code",
   "execution_count": null,
   "metadata": {},
   "outputs": [],
   "source": []
  }
 ],
 "metadata": {
  "kernelspec": {
   "display_name": "Python 3",
   "language": "python",
   "name": "python3"
  },
  "language_info": {
   "codemirror_mode": {
    "name": "ipython",
    "version": 3
   },
   "file_extension": ".py",
   "mimetype": "text/x-python",
   "name": "python",
   "nbconvert_exporter": "python",
   "pygments_lexer": "ipython3",
   "version": "3.6.5"
  }
 },
 "nbformat": 4,
 "nbformat_minor": 2
}
