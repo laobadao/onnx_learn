{
 "cells": [
  {
   "cell_type": "code",
   "execution_count": 9,
   "metadata": {},
   "outputs": [
    {
     "name": "stdout",
     "output_type": "stream",
     "text": [
      "(1, 224, 224, 3)\n",
      "(1, 224, 224, 3)\n",
      "paddings.shape: (4, 2)\n",
      "output : (1, 230, 230, 3)\n"
     ]
    }
   ],
   "source": [
    "import tensorflow as tf\n",
    "import numpy as np\n",
    "\n",
    "x1 = np.random.randn(1, 224, 224, 3).astype(np.float32)\n",
    "\n",
    "x_val = np.array(x1, dtype=np.float32)\n",
    "print(x_val.shape)\n",
    "\n",
    "x = tf.placeholder(tf.float32, x_val.shape, name=\"input\")\n",
    "\n",
    "print(x.get_shape())\n",
    "\n",
    "pad = [[0, 0], [3, 3], [3, 3], [0, 0]]\n",
    "\n",
    "paddings = tf.constant(pad)\n",
    "\n",
    "print(\"paddings.shape:\", paddings.get_shape())\n",
    "op = tf.pad(x, paddings, \"CONSTANT\")\n",
    "\n",
    "output = tf.identity(op, name=\"output\")\n",
    "\n",
    "print(\"output :\", output.get_shape())"
   ]
  },
  {
   "cell_type": "code",
   "execution_count": 23,
   "metadata": {},
   "outputs": [
    {
     "name": "stdout",
     "output_type": "stream",
     "text": [
      "(1, 224, 224, 3)\n",
      "(1, 224, 224, 3)\n",
      "paddings.shape: (4, 2)\n",
      "output : (1, 230, 230, 3)\n"
     ]
    }
   ],
   "source": [
    "import tensorflow as tf\n",
    "import numpy as np\n",
    "\n",
    "x1 = np.random.randn(1, 224, 224, 3).astype(np.float32)\n",
    "\n",
    "x_val = np.array(x1, dtype=np.float32)\n",
    "print(x_val.shape)\n",
    "\n",
    "x = tf.placeholder(tf.float32, x_val.shape, name=\"input\")\n",
    "\n",
    "print(x.get_shape())\n",
    "\n",
    "pad = [[0, 0], [3, 3], [3, 3], [0, 0]]\n",
    "\n",
    "paddings = tf.constant(pad)\n",
    "\n",
    "print(\"paddings.shape:\", paddings.get_shape())\n",
    "op = tf.pad(x, paddings, \"CONSTANT\")\n",
    "\n",
    "output = tf.identity(op, name=\"output\")\n",
    "\n",
    "print(\"output :\", output.get_shape())"
   ]
  },
  {
   "cell_type": "code",
   "execution_count": 25,
   "metadata": {},
   "outputs": [
    {
     "name": "stdout",
     "output_type": "stream",
     "text": [
      "y.shape: (1, 6, 6, 3)\n",
      "[[[[ 0.          0.          0.        ]\n",
      "   [ 0.          0.          0.        ]\n",
      "   [ 0.          0.          0.        ]\n",
      "   [ 0.          0.          0.        ]\n",
      "   [ 0.          0.          0.        ]\n",
      "   [ 0.          0.          0.        ]]\n",
      "\n",
      "  [[ 0.          0.          0.        ]\n",
      "   [-1.0232489   2.7595384   0.8121258 ]\n",
      "   [-1.6652445  -0.6384244  -0.22878201]\n",
      "   [-0.61304355 -0.16056004 -0.3214093 ]\n",
      "   [-0.04380637  0.63261026  0.16894554]\n",
      "   [ 0.          0.          0.        ]]\n",
      "\n",
      "  [[ 0.          0.          0.        ]\n",
      "   [ 1.6818326  -0.6412685  -0.7122386 ]\n",
      "   [ 0.7978569  -0.6242278   0.14693917]\n",
      "   [-1.3299435   0.08197591  1.9537549 ]\n",
      "   [-0.39338037  2.1700249   0.48503923]\n",
      "   [ 0.          0.          0.        ]]\n",
      "\n",
      "  [[ 0.          0.          0.        ]\n",
      "   [ 1.7550678  -1.522111   -0.13694838]\n",
      "   [ 0.4294414   0.10864529 -0.9327744 ]\n",
      "   [-0.32780212  0.72184706 -0.12752706]\n",
      "   [ 0.44695127 -0.42628846 -0.540092  ]\n",
      "   [ 0.          0.          0.        ]]\n",
      "\n",
      "  [[ 0.          0.          0.        ]\n",
      "   [ 0.73405975 -0.5344408  -0.51504457]\n",
      "   [ 1.4719415   0.92125976 -0.6159811 ]\n",
      "   [ 0.76591146 -0.5503494  -1.1957867 ]\n",
      "   [ 0.36614245 -0.13453256  0.3851926 ]\n",
      "   [ 0.          0.          0.        ]]\n",
      "\n",
      "  [[ 0.          0.          0.        ]\n",
      "   [ 0.          0.          0.        ]\n",
      "   [ 0.          0.          0.        ]\n",
      "   [ 0.          0.          0.        ]\n",
      "   [ 0.          0.          0.        ]\n",
      "   [ 0.          0.          0.        ]]]]\n"
     ]
    }
   ],
   "source": [
    "#x = np.random.randn(1, 224, 224, 3).astype(np.float32)\n",
    "x = np.random.randn(1, 4, 4, 3).astype(np.float32)\n",
    "\n",
    "y = np.pad(\n",
    "    x,\n",
    "    pad_width=((0, 0), (1, 1), (1, 1), (0, 0)),\n",
    "    mode='constant',\n",
    "    constant_values=0,\n",
    ")\n",
    "\n",
    "print(\"y.shape:\", y.shape)\n",
    "print(y)"
   ]
  },
  {
   "cell_type": "code",
   "execution_count": null,
   "metadata": {},
   "outputs": [],
   "source": []
  }
 ],
 "metadata": {
  "kernelspec": {
   "display_name": "Python 3",
   "language": "python",
   "name": "python3"
  },
  "language_info": {
   "codemirror_mode": {
    "name": "ipython",
    "version": 3
   },
   "file_extension": ".py",
   "mimetype": "text/x-python",
   "name": "python",
   "nbconvert_exporter": "python",
   "pygments_lexer": "ipython3",
   "version": "3.6.5"
  }
 },
 "nbformat": 4,
 "nbformat_minor": 2
}
